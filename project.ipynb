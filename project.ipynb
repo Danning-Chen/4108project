{
 "cells": [
  {
   "cell_type": "code",
   "execution_count": 15,
   "metadata": {},
   "outputs": [],
   "source": [
    "import pandas as pd\n",
    "import random\n",
    "\n",
    "#S_Box\n",
    "s_box = [0x5, 0x3, 0xA, 0x1, 0xE, 0xD, 0x2, 0x9, 0x6, 0xF, 0xC, 0x7, 0xB, 0x8, 0x0, 0x4]\n",
    "\n"
   ]
  },
  {
   "cell_type": "code",
   "execution_count": 16,
   "metadata": {},
   "outputs": [
    {
     "name": "stdout",
     "output_type": "stream",
     "text": [
      "    0   1   2   3   4   5   6   7   8   9   10  11  12  13  14  15\n",
      "0   16   0   0   0   0   0   0   0   0   0   0   0   0   0   0   0\n",
      "1    0   0   0   4   2   0   2   0   0   2   0   6   0   0   0   0\n",
      "2    0   0   2   0   2   0   0   0   2   0   2   2   4   0   0   2\n",
      "3    0   2   0   2   2   0   0   2   2   2   0   0   0   0   0   4\n",
      "4    0   0   0   2   0   0   0   2   4   0   0   2   2   2   2   0\n",
      "5    0   0   0   4   2   0   0   2   4   0   0   0   0   2   2   0\n",
      "6    0   0   0   0   2   0   2   4   0   0   2   2   2   0   0   2\n",
      "7    0   2   2   0   2   0   0   2   0   0   0   0   4   0   0   4\n",
      "8    0   0   2   2   0   4   4   0   0   0   0   0   2   2   0   0\n",
      "9    0   0   0   0   0   2   6   0   0   2   2   0   0   4   0   0\n",
      "10   0   2   0   0   2   0   0   0   0   6   0   0   2   0   4   0\n",
      "11   0   0   4   0   0   2   0   2   0   0   4   0   0   2   0   2\n",
      "12   0   0   2   0   0   2   0   0   2   0   2   2   0   0   6   0\n",
      "13   0   4   0   0   0   4   0   0   2   0   0   2   0   2   2   0\n",
      "14   0   2   2   0   2   2   2   2   0   2   2   0   0   0   0   0\n",
      "15   0   4   2   2   0   0   0   0   0   2   2   0   0   2   0   2\n"
     ]
    }
   ],
   "source": [
    "#DDT\n",
    "ddt = [[0 for _ in range(16)] for _ in range(16)]\n",
    "\n",
    "for x1 in range(16):\n",
    "    for x2 in range(16):\n",
    "        delta_x = x1 ^ x2\n",
    "        delta_y = s_box[x1] ^ s_box[x2]\n",
    "        ddt[delta_x][delta_y] += 1\n",
    "\n",
    "\n",
    "ddt_df = pd.DataFrame(ddt)\n",
    "print(ddt_df)"
   ]
  },
  {
   "cell_type": "code",
   "execution_count": 17,
   "metadata": {},
   "outputs": [],
   "source": [
    "#generate plaintext\n",
    "plaintexts = [random.getrandbits(16) for _ in range(10000)]\n",
    "\n",
    "#save the plaintext in txt file\n",
    "with open(\"plaintexts.txt\", \"w\") as file:\n",
    "    for pt in plaintexts:\n",
    "\n",
    "        file.write(f\"{hex(pt)}\\n\")"
   ]
  },
  {
   "cell_type": "code",
   "execution_count": 18,
   "metadata": {},
   "outputs": [],
   "source": [
    "#key \n",
    "keys = [0x30cf, 0x87e3, 0xdcff, 0xcd6, 0x43c7]\n"
   ]
  },
  {
   "cell_type": "code",
   "execution_count": null,
   "metadata": {},
   "outputs": [],
   "source": [
    "\n",
    "def permute(pt):\n",
    "    temp = [(pt >> i) & 1 for i in reversed(range(16))]\n",
    "    pattern = [0,4,8,12,1,5,9,13,2,6,10,14,3,7,11,15]\n",
    "    new_pt = [0]*16\n",
    "    for i in range(16):\n",
    "        new_pt[pattern[i]] = temp[i]\n",
    "\n",
    "    result_pt = 0\n",
    "    for i, bit in enumerate(new_pt):\n",
    "        result_pt |= (bit << (15 - i))\n",
    "    return result_pt\n",
    "\n",
    "\n",
    "\n",
    "def substitute(pt):\n",
    "    block1 = (pt >> 12) & 0xF  \n",
    "    block2 = (pt >> 8) & 0xF   \n",
    "    block3 = (pt >> 4) & 0xF   \n",
    "    block4 = pt & 0xF          \n",
    "    new_block1 = s_box[block1]\n",
    "    new_block2 = s_box[block2]\n",
    "    new_block3 = s_box[block3] \n",
    "    new_block4 = s_box[block4]\n",
    "\n",
    "    substituted_block = (new_block1 << 12) | (new_block2 << 8) | (new_block3 << 4) | new_block4\n",
    "    return substituted_block\n",
    "\n",
    "\n",
    "\n",
    "def encrypt(pt, keys):\n",
    "    for k in range(3):\n",
    "        pt ^= keys[k]\n",
    "        pt = substitute(pt)\n",
    "        pt = permute(pt)\n",
    "    \n",
    "    pt ^= keys[3]\n",
    "    pt = substitute(pt)\n",
    "    pt ^= keys[4]\n",
    "    return pt\n"
   ]
  },
  {
   "cell_type": "code",
   "execution_count": 20,
   "metadata": {},
   "outputs": [],
   "source": [
    "#encrypt the plaintext\n",
    "ciphertexts = [encrypt(pt, keys) for pt in plaintexts]"
   ]
  },
  {
   "cell_type": "code",
   "execution_count": null,
   "metadata": {},
   "outputs": [],
   "source": [
    "#save the cipherext in txt file\n",
    "with open(\"ciphertexts.txt\", \"w\") as file:\n",
    "    for ct in ciphertexts:\n",
    "        file.write(f\"{hex(ct)}\\n\")\n",
    "\n"
   ]
  }
 ],
 "metadata": {
  "kernelspec": {
   "display_name": "Python 3",
   "language": "python",
   "name": "python3"
  },
  "language_info": {
   "codemirror_mode": {
    "name": "ipython",
    "version": 3
   },
   "file_extension": ".py",
   "mimetype": "text/x-python",
   "name": "python",
   "nbconvert_exporter": "python",
   "pygments_lexer": "ipython3",
   "version": "3.10.11"
  }
 },
 "nbformat": 4,
 "nbformat_minor": 2
}
